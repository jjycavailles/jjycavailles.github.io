{
 "cells": [
  {
   "cell_type": "code",
   "execution_count": 1,
   "id": "linear-banking",
   "metadata": {},
   "outputs": [],
   "source": [
    "import numpy as np\n",
    "import matplotlib.pyplot as plt"
   ]
  },
  {
   "cell_type": "code",
   "execution_count": 2,
   "id": "stuffed-native",
   "metadata": {},
   "outputs": [],
   "source": [
    "def solvePopulation(initialRabbitsSlider, birthThresholdSlider, grassGrowthRateSlider, grassEnergySlider):   \n",
    "    # Initialisation\n",
    "    G = np.zeros(nbreStep)\n",
    "    R = np.zeros(nbreStep)\n",
    "    G[0] = 256*256\n",
    "    R[0] = initialRabbitsSlider\n",
    "    \n",
    "    for i in range(1, nbreStep):    \n",
    "        G[i] = G[i-1] + (grassGrowthRateSlider - R[i-1]) * dt\n",
    "        R[i] = R[i-1] + (G[i-1] / birthThresholdSlider - grassEnergySlider/G[i-1]) * R[i] * dt\n",
    "    return G, R"
   ]
  },
  {
   "cell_type": "code",
   "execution_count": 3,
   "id": "national-rwanda",
   "metadata": {},
   "outputs": [],
   "source": [
    "# numerical parameters\n",
    "dt = 0.1\n",
    "nbreStep = 1000"
   ]
  },
  {
   "cell_type": "code",
   "execution_count": 4,
   "id": "specified-warren",
   "metadata": {},
   "outputs": [],
   "source": [
    "G, R = solvePopulation(150, 15, 15, 5.0)"
   ]
  },
  {
   "cell_type": "code",
   "execution_count": 5,
   "id": "shared-president",
   "metadata": {},
   "outputs": [
    {
     "data": {
      "text/plain": [
       "[<matplotlib.lines.Line2D at 0x7f1abfd48d30>]"
      ]
     },
     "execution_count": 5,
     "metadata": {},
     "output_type": "execute_result"
    },
    {
     "data": {
      "image/png": "[encoded data removed]",
      "text/plain": [
       "<Figure size 432x288 with 1 Axes>"
      ]
     },
     "metadata": {
      "needs_background": "light"
     },
     "output_type": "display_data"
    }
   ],
   "source": [
    "T = np.linspace(0, nbreStep/dt//1, nbreStep)\n",
    "plt.plot(T, G)\n",
    "plt.plot(T, R)"
   ]
  },
  {
   "cell_type": "code",
   "execution_count": null,
   "id": "subtle-furniture",
   "metadata": {},
   "outputs": [],
   "source": []
  }
 ],
 "metadata": {
  "kernelspec": {
   "display_name": "Python 3",
   "language": "python",
   "name": "python3"
  },
  "language_info": {
   "codemirror_mode": {
    "name": "ipython",
    "version": 3
   },
   "file_extension": ".py",
   "mimetype": "text/x-python",
   "name": "python",
   "nbconvert_exporter": "python",
   "pygments_lexer": "ipython3",
   "version": "3.9.2"
  }
 },
 "nbformat": 4,
 "nbformat_minor": 5
}
